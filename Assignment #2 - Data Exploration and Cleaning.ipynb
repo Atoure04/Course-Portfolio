{
 "cells": [
  {
   "cell_type": "markdown",
   "id": "b93f4789",
   "metadata": {},
   "source": [
    "# Assignment #2: Data Exploration\n",
    "\n",
    "In this assignment, you will demonstrate your knowledge of the Python and Pandas skills we've learned so far. These include:\n",
    "\n",
    "- Getting an overview of your data\n",
    "- Extracting columns\n",
    "- Removing duplicates from your data\n",
    "- Creating a subset of your data by matching a string\n",
    "- Getting a random sample of your data\n",
    "- Sorting your data \n",
    "- Getting fundamental statistical information of a series, such as the mean and median\n",
    "\n",
    "You will not need to formulate or answer a research question for this assignment. You simply need to demonstrate your ability to perform specific operations on the data set you have selected. In the next assignment, your midterm, you will create a narrative exploration of the data using many of the same methods, but in such a way as to use narrative along with data analysis to answer a research question.\n",
    "\n",
    "You may use the data set you imported in assignment #1, or you may choose another data set. That means that you can reuse code you wrote in Assignment #1 to import the data.\n",
    "\n",
    "In the below notebook, I will ask for you to perform a task. Each task will be followed by one or more blank code cells. Use as many cells as you need to complete the task. If you know some other way to complete the task with Python and/or Pandas that is not the way we learned in class, that is also acceptable. Feel free to use Google searches to refresh your memory as to how to perform each task. You will also likely wish to consult the class notebooks, which can be found in [our class repository on GitHub](https://github.com/sha256rma/foundations-of-data-science).\n",
    "\n",
    "If your data set does not have a needed form of data for a task, write code that would perform the task if a column with that data existed, and provide an explanation as a comment or markdown cell.\n",
    "\n",
    "You may receive partial credit for some incomplete or incorrect answers. Please feel free to add comments about your thought process, which will make it more likely that you will receive partial credit.\n",
    "\n",
    "The last cell is a bonus. You will not be penalized for not attempting or completing it.\n",
    "\n",
    "-----"
   ]
  },
  {
   "cell_type": "markdown",
   "id": "2bfcd632",
   "metadata": {},
   "source": [
    "Import Pandas and read your data in as a data frame. Assign the data frame to a variable, such as `df`."
   ]
  },
  {
   "cell_type": "code",
   "execution_count": 6,
   "id": "bf198c8b",
   "metadata": {},
   "outputs": [],
   "source": [
    "import pandas as pd"
   ]
  },
  {
   "cell_type": "code",
   "execution_count": 8,
   "id": "797c533d",
   "metadata": {
    "scrolled": true
   },
   "outputs": [],
   "source": [
    "df = pd.read_csv('top_popular_movies.csv')"
   ]
  },
  {
   "cell_type": "markdown",
   "id": "a24891c9",
   "metadata": {},
   "source": [
    "Make the data frame visible by placing the data frame variable in a cell by itself."
   ]
  },
  {
   "cell_type": "code",
   "execution_count": 10,
   "id": "ccd666d6",
   "metadata": {},
   "outputs": [
    {
     "data": {
      "text/plain": [
       "['title', 'release_date', 'popularity', 'vote_average']"
      ]
     },
     "execution_count": 10,
     "metadata": {},
     "output_type": "execute_result"
    }
   ],
   "source": [
    "df.columns.tolist()"
   ]
  },
  {
   "cell_type": "markdown",
   "id": "2bb0ff5d",
   "metadata": {},
   "source": [
    "What columns are in your data frame? Use a function or method that shows all the columns."
   ]
  },
  {
   "cell_type": "code",
   "execution_count": 12,
   "id": "eeaee6f1",
   "metadata": {},
   "outputs": [
    {
     "name": "stdout",
     "output_type": "stream",
     "text": [
      "Number of rows in the DataFrame: 500\n"
     ]
    }
   ],
   "source": [
    "num_rows = df.shape[0]\n",
    "print(f\"Number of rows in the DataFrame: {num_rows}\")"
   ]
  },
  {
   "cell_type": "markdown",
   "id": "b06c4738",
   "metadata": {},
   "source": [
    "Write Python code to output the number of rows in your data frame."
   ]
  },
  {
   "cell_type": "code",
   "execution_count": 14,
   "id": "6323742f",
   "metadata": {},
   "outputs": [
    {
     "data": {
      "text/plain": [
       "0              Avatar: The Way of Water\n",
       "1      Winnie the Pooh: Blood and Honey\n",
       "2                          Cocaine Bear\n",
       "3                  John Wick: Chapter 4\n",
       "4          Puss in Boots: The Last Wish\n",
       "                     ...               \n",
       "495                           The Flash\n",
       "496                                Nope\n",
       "497                         San Andreas\n",
       "498                           I Believe\n",
       "499                              Frozen\n",
       "Name: title, Length: 500, dtype: object"
      ]
     },
     "execution_count": 14,
     "metadata": {},
     "output_type": "execute_result"
    }
   ],
   "source": [
    "titles = df['title']\n",
    "titles"
   ]
  },
  {
   "cell_type": "markdown",
   "id": "e8644b85",
   "metadata": {},
   "source": [
    "Write code to output a column from your data frame as a series. (Extract a column.)"
   ]
  },
  {
   "cell_type": "code",
   "execution_count": null,
   "id": "6ed1a654",
   "metadata": {},
   "outputs": [],
   "source": []
  },
  {
   "cell_type": "code",
   "execution_count": null,
   "id": "da4ca19e",
   "metadata": {},
   "outputs": [],
   "source": []
  },
  {
   "cell_type": "markdown",
   "id": "af635ed6",
   "metadata": {},
   "source": [
    "### Read the example below to **count** duplicates based on specific columns (e.g., 'Name' and 'Age')\n",
    "\n",
    "Check duplicates based on 'Name' and 'Age' columns (modify the subset for your own columns):\n",
    "\n",
    "`duplicates_subset = df.duplicated(subset=['Name', 'Age'])`\n",
    "\n",
    "Count the number of duplicates in the subset:\n",
    "\n",
    "`num_duplicates_subset = duplicates_subset.sum()`\n",
    "\n",
    "Display no. of duplicate rows based on your column(s):\n",
    "\n",
    "`print(f\"\\nNumber of duplicate rows based on 'Name' and 'Age': {num_duplicates_subset}\")`\n"
   ]
  },
  {
   "cell_type": "markdown",
   "id": "d8b3bfe9",
   "metadata": {},
   "source": [
    "After reading the above, modify the code snippets to check for duplicate columns in your own data frame"
   ]
  },
  {
   "cell_type": "code",
   "execution_count": 17,
   "id": "8cf0f9d8",
   "metadata": {},
   "outputs": [],
   "source": [
    "duplicates_subset = df.duplicated(subset=['title'])"
   ]
  },
  {
   "cell_type": "code",
   "execution_count": 19,
   "id": "a6d1f7ef",
   "metadata": {},
   "outputs": [],
   "source": [
    "num_duplicates_subset = duplicates_subset.sum()"
   ]
  },
  {
   "cell_type": "code",
   "execution_count": 21,
   "id": "4d155faa",
   "metadata": {},
   "outputs": [
    {
     "name": "stdout",
     "output_type": "stream",
     "text": [
      "\n",
      "Number of duplicate rows based on 'title': 3\n"
     ]
    }
   ],
   "source": [
    "print(f\"\\nNumber of duplicate rows based on 'title': {num_duplicates_subset}\")"
   ]
  },
  {
   "cell_type": "markdown",
   "id": "a2da032a",
   "metadata": {},
   "source": [
    "If any duplicates exist within a column, remove them with the `.drop_duplicates()` function"
   ]
  },
  {
   "cell_type": "code",
   "execution_count": 23,
   "id": "cc788657",
   "metadata": {},
   "outputs": [],
   "source": [
    "df_cleaned = df.drop_duplicates(subset=['title'])"
   ]
  },
  {
   "cell_type": "markdown",
   "id": "75965556",
   "metadata": {},
   "source": [
    "Write Python code to output the number of rows in your data frame."
   ]
  },
  {
   "cell_type": "code",
   "execution_count": 25,
   "id": "069bb2fa",
   "metadata": {},
   "outputs": [],
   "source": [
    "new_num_rows = df_cleaned.shape[0]"
   ]
  },
  {
   "cell_type": "markdown",
   "id": "4f728b70",
   "metadata": {},
   "source": [
    "Compare the new value with the first time you outputted the number of rows above. Is it more, less, or the same?"
   ]
  },
  {
   "cell_type": "markdown",
   "id": "10a47f50",
   "metadata": {},
   "source": [
    "print(f\"Number of rows after removing duplicates: {new_num_rows}\")"
   ]
  },
  {
   "cell_type": "markdown",
   "id": "1a9df537",
   "metadata": {},
   "source": [
    "Create a subset of the data that matches a specific string in a column. That is, extract all rows of the original data frame that contain a specific string in one of the columns. Save the resulting data frame to a variable. (Add more cells if needed)"
   ]
  },
  {
   "cell_type": "code",
   "execution_count": 28,
   "id": "b4e0a375",
   "metadata": {},
   "outputs": [
    {
     "name": "stdout",
     "output_type": "stream",
     "text": [
      "Original number of rows: 500, Cleaned number of rows: 497\n"
     ]
    }
   ],
   "source": [
    "print(f\"Original number of rows: {num_rows}, Cleaned number of rows: {new_num_rows}\")"
   ]
  },
  {
   "cell_type": "code",
   "execution_count": null,
   "id": "06498731",
   "metadata": {},
   "outputs": [],
   "source": []
  },
  {
   "cell_type": "markdown",
   "id": "8ce688ed",
   "metadata": {},
   "source": [
    "Output the length of the resulting data frame (the subset of your data for which the conditional was true)."
   ]
  },
  {
   "cell_type": "code",
   "execution_count": 36,
   "id": "bd2ab816",
   "metadata": {},
   "outputs": [
    {
     "name": "stdout",
     "output_type": "stream",
     "text": [
      "First 10 rows:\n",
      "                                    title release_date  popularity  \\\n",
      "0               Avatar: The Way of Water   2022-12-14    6789.789   \n",
      "1       Winnie the Pooh: Blood and Honey   2023-01-27    3258.540   \n",
      "2                           Cocaine Bear   2023-02-22    2781.045   \n",
      "3                   John Wick: Chapter 4   2023-03-22    2803.482   \n",
      "4           Puss in Boots: The Last Wish   2022-12-07    1531.792   \n",
      "5  Prizefighter: The Life of Jem Belcher   2022-06-30    1400.798   \n",
      "6                   The Devil Conspiracy   2023-01-13    1280.108   \n",
      "7                     Knock at the Cabin   2023-02-01    1192.041   \n",
      "8         Black Panther: Wakanda Forever   2022-11-09    1203.240   \n",
      "9                               Cazadora   2023-01-19    1084.456   \n",
      "\n",
      "   vote_average  \n",
      "0           7.7  \n",
      "1           5.9  \n",
      "2           6.6  \n",
      "3           8.2  \n",
      "4           8.3  \n",
      "5           6.2  \n",
      "6           6.4  \n",
      "7           6.4  \n",
      "8           7.3  \n",
      "9           6.6  \n"
     ]
    }
   ],
   "source": [
    "print(\"First 10 rows:\\n\", df.head(10))"
   ]
  },
  {
   "cell_type": "markdown",
   "id": "ad96d460",
   "metadata": {},
   "source": [
    "Output the first ten rows of your data set, the last ten rows of your data set, and a random ten rows of your data set (a sample of your data)."
   ]
  },
  {
   "cell_type": "code",
   "execution_count": 38,
   "id": "1bf71cb0",
   "metadata": {},
   "outputs": [
    {
     "name": "stdout",
     "output_type": "stream",
     "text": [
      "\n",
      "Last 10 rows:\n",
      "                    title release_date  popularity  vote_average\n",
      "490             Blowback   2022-06-17      95.007           6.0\n",
      "491             Scream 3   2000-02-03      75.129           6.0\n",
      "492         The Key Game   2022-04-13      95.436           5.9\n",
      "493   Dungeons & Dragons   2000-12-08     101.399           4.3\n",
      "494  Fifty Shades Darker   2017-02-08      84.395           6.5\n",
      "495            The Flash   2023-06-14      85.359           0.0\n",
      "496                 Nope   2022-07-20      86.922           6.9\n",
      "497          San Andreas   2015-05-27      78.885           6.2\n",
      "498            I Believe   2019-06-06      87.802           7.0\n",
      "499               Frozen   2013-11-20      94.184           7.2\n"
     ]
    }
   ],
   "source": [
    "print(\"\\nLast 10 rows:\\n\", df.tail(10))"
   ]
  },
  {
   "cell_type": "code",
   "execution_count": 40,
   "id": "59e6227f",
   "metadata": {},
   "outputs": [
    {
     "name": "stdout",
     "output_type": "stream",
     "text": [
      "\n",
      "Random 10 rows:\n",
      "                                        title release_date  popularity  \\\n",
      "339                                 Twilight   2008-11-20     105.373   \n",
      "340                                      Dog   2022-02-17     117.505   \n",
      "431                              Ratatouille   2007-06-28     102.363   \n",
      "4               Puss in Boots: The Last Wish   2022-12-07    1531.792   \n",
      "491                                 Scream 3   2000-02-03      75.129   \n",
      "158              Lupin The 3rd vs. Cat’s Eye   2023-01-26     197.557   \n",
      "164                           Naked Rashomon   1973-07-04     156.342   \n",
      "278                          The Maze Runner   2014-09-10     121.824   \n",
      "173  Harry Potter and the Chamber of Secrets   2002-11-13     169.272   \n",
      "5      Prizefighter: The Life of Jem Belcher   2022-06-30    1400.798   \n",
      "\n",
      "     vote_average  \n",
      "339           6.3  \n",
      "340           7.4  \n",
      "431           7.8  \n",
      "4             8.3  \n",
      "491           6.0  \n",
      "158           6.0  \n",
      "164           6.7  \n",
      "278           7.2  \n",
      "173           7.7  \n",
      "5             6.2  \n"
     ]
    }
   ],
   "source": [
    "print(\"\\nRandom 10 rows:\\n\", df.sample(10))"
   ]
  },
  {
   "cell_type": "code",
   "execution_count": null,
   "id": "e3585e15",
   "metadata": {},
   "outputs": [],
   "source": []
  },
  {
   "cell_type": "markdown",
   "id": "7e96f519",
   "metadata": {},
   "source": [
    "## Bonus\n",
    "\n",
    "You may want to refer to the [Pandas Cheat Sheet](https://pandas.pydata.org/Pandas_Cheat_Sheet.pdf)."
   ]
  },
  {
   "cell_type": "markdown",
   "id": "4c6d9319",
   "metadata": {},
   "source": [
    "Sort your data frame by a particular column and output the result."
   ]
  },
  {
   "cell_type": "code",
   "execution_count": null,
   "id": "fab623b1",
   "metadata": {},
   "outputs": [],
   "source": []
  },
  {
   "cell_type": "code",
   "execution_count": null,
   "id": "2797159d",
   "metadata": {},
   "outputs": [],
   "source": []
  },
  {
   "cell_type": "markdown",
   "id": "4cbd44ef",
   "metadata": {},
   "source": [
    "Pick a column in your data set with numeric data (integers or floats). Output the mean (average) and median of that column."
   ]
  },
  {
   "cell_type": "code",
   "execution_count": null,
   "id": "5fcd45c6",
   "metadata": {},
   "outputs": [],
   "source": []
  },
  {
   "cell_type": "code",
   "execution_count": null,
   "id": "efef68ae-03df-417e-9f4a-bf936ece5882",
   "metadata": {},
   "outputs": [],
   "source": []
  }
 ],
 "metadata": {
  "kernelspec": {
   "display_name": "Python 3 (ipykernel)",
   "language": "python",
   "name": "python3"
  },
  "language_info": {
   "codemirror_mode": {
    "name": "ipython",
    "version": 3
   },
   "file_extension": ".py",
   "mimetype": "text/x-python",
   "name": "python",
   "nbconvert_exporter": "python",
   "pygments_lexer": "ipython3",
   "version": "3.12.4"
  }
 },
 "nbformat": 4,
 "nbformat_minor": 5
}
